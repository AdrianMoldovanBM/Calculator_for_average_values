{
  "nbformat": 4,
  "nbformat_minor": 0,
  "metadata": {
    "colab": {
      "provenance": [],
      "authorship_tag": "ABX9TyNZ8GwjqrkeX1tOYh+JXo1A"
    },
    "kernelspec": {
      "name": "python3",
      "display_name": "Python 3"
    },
    "language_info": {
      "name": "python"
    }
  },
  "cells": [
    {
      "cell_type": "code",
      "execution_count": null,
      "metadata": {
        "id": "3wdAkDQzDHSZ"
      },
      "outputs": [],
      "source": [
        "def calculate_average():\n",
        "    try:\n",
        "        # Prompting the user to enter numbers separated by spaces\n",
        "        user_input = input(\"Enter numbers separated by spaces: \")\n",
        "\n",
        "        # Spliting the input string into individual number strings\n",
        "        number_strings = user_input.split()\n",
        "\n",
        "        # Converting the number strings to floats\n",
        "        numbers = [float(num) for num in number_strings]\n",
        "\n",
        "        # Calculating the average\n",
        "        if not numbers:\n",
        "            return 0  # Return 0 if no numbers are entered\n",
        "\n",
        "        # The process of calculation\n",
        "        total = sum(numbers)\n",
        "        count = len(numbers)\n",
        "        average = total / count\n",
        "\n",
        "        return average\n",
        "\n",
        "    # Dealing with invalid inputs\n",
        "    except ValueError:\n",
        "        return \"Invalid input. Please enter valid numbers.\"\n",
        "\n",
        "# Implementation:\n",
        "average = calculate_average()\n",
        "print(f\"The average is: {average}\")"
      ]
    }
  ]
}